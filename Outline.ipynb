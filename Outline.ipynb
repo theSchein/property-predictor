{
 "cells": [
  {
   "cell_type": "markdown",
   "metadata": {},
   "source": [
    "# Real Estate Outline\n",
    "\n",
    "## Goal\n",
    "Build a model to predict the selling price of a Philadelphia property based on publically available listing information.\n",
    "\n",
    "## Possible Datasets\n",
    "https://www.opendataphilly.org/dataset/opa-property-assessments\n",
    "\n",
    "https://www.opendataphilly.org/dataset/real-estate-transfers\n",
    "\n",
    "\n",
    "## Format\n",
    "\n",
    "Code is written in python3 and run on Jupyter notebooks. Further revisions could involve building a front end application for user accessability.\n"
   ]
  },
  {
   "cell_type": "markdown",
   "metadata": {},
   "source": [
    "## Step 1: Build Dataset\n",
    "\n",
    "* Find relevent public datasets regarding housing data and other factors of interest\n",
    "\n",
    "* Clean data and build database\n",
    "\n",
    "* Stretch goal: Integrate API to automatically update datasets from its public sources\n"
   ]
  },
  {
   "cell_type": "markdown",
   "metadata": {},
   "source": [
    "# Step 2: Find Insights\n",
    "\n",
    "* Determine factors tightly correlated to selling price (size, location, etc)\n",
    "\n",
    "* Determine baseline direction of overall market and neighborhoods\n",
    "\n",
    "* Perform descriptive statistic on datasets and follow any intersting insights\n"
   ]
  },
  {
   "cell_type": "markdown",
   "metadata": {},
   "source": [
    "# Step 3: Create Predictive Algorithm\n",
    "\n",
    "* Use data insights to make prediction on real estate selling prices\n",
    "\n",
    "* Test algorithm agianst real estate sold in the past 3 years\n",
    "\n",
    "* Retool code based on test results\n",
    "\n",
    "* Test algorithm on currently listed properties"
   ]
  },
  {
   "cell_type": "markdown",
   "metadata": {},
   "source": [
    "# Step 4: Machine Learning (Stretch)\n",
    "\n",
    "* Train the model on real estate selling prices and compare results to the tradional predictive algorithm"
   ]
  },
  {
   "cell_type": "markdown",
   "metadata": {},
   "source": [
    "# Submission\n",
    "\n",
    "Success will be measured using root-mean-square-error between predicted and observed sales price. The completed project will be submited to Kaggle. \n"
   ]
  },
  {
   "cell_type": "code",
   "execution_count": null,
   "metadata": {},
   "outputs": [],
   "source": []
  }
 ],
 "metadata": {
  "kernelspec": {
   "display_name": "Python 3",
   "language": "python",
   "name": "python3"
  },
  "language_info": {
   "codemirror_mode": {
    "name": "ipython",
    "version": 3
   },
   "file_extension": ".py",
   "mimetype": "text/x-python",
   "name": "python",
   "nbconvert_exporter": "python",
   "pygments_lexer": "ipython3",
   "version": "3.6.8"
  }
 },
 "nbformat": 4,
 "nbformat_minor": 2
}
